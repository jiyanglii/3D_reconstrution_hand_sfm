{
 "cells": [
  {
   "cell_type": "code",
   "execution_count": 1,
   "metadata": {},
   "outputs": [],
   "source": [
    "import pickle\n",
    "import numpy as np\n",
    "import time\n",
    "import cv2\n",
    "import math\n",
    "import os\n",
    "from moviepy.editor import *"
   ]
  },
  {
   "cell_type": "code",
   "execution_count": 10,
   "metadata": {},
   "outputs": [
    {
     "name": "stdout",
     "output_type": "stream",
     "text": [
      "Moviepy - Building video /Users/sidoodler/projects/asl/datasets/video_asl/inputs/asl_ours/Hanna_Session_7/cut_left.mp4.\n",
      "MoviePy - Writing audio in cut_leftTEMP_MPY_wvf_snd.mp3\n"
     ]
    },
    {
     "name": "stderr",
     "output_type": "stream",
     "text": [
      "                                                               \r"
     ]
    },
    {
     "name": "stdout",
     "output_type": "stream",
     "text": [
      "MoviePy - Done.\n",
      "Moviepy - Writing video /Users/sidoodler/projects/asl/datasets/video_asl/inputs/asl_ours/Hanna_Session_7/cut_left.mp4\n",
      "\n"
     ]
    },
    {
     "name": "stderr",
     "output_type": "stream",
     "text": [
      "                                                              \r"
     ]
    },
    {
     "name": "stdout",
     "output_type": "stream",
     "text": [
      "Moviepy - Done !\n",
      "Moviepy - video ready /Users/sidoodler/projects/asl/datasets/video_asl/inputs/asl_ours/Hanna_Session_7/cut_left.mp4\n",
      "Moviepy - Building video /Users/sidoodler/projects/asl/datasets/video_asl/inputs/asl_ours/Hanna_Session_7/cut_right.mp4.\n",
      "MoviePy - Writing audio in cut_rightTEMP_MPY_wvf_snd.mp3\n"
     ]
    },
    {
     "name": "stderr",
     "output_type": "stream",
     "text": [
      "                                                               \r"
     ]
    },
    {
     "name": "stdout",
     "output_type": "stream",
     "text": [
      "MoviePy - Done.\n",
      "Moviepy - Writing video /Users/sidoodler/projects/asl/datasets/video_asl/inputs/asl_ours/Hanna_Session_7/cut_right.mp4\n",
      "\n"
     ]
    },
    {
     "name": "stderr",
     "output_type": "stream",
     "text": [
      "                                                              \r"
     ]
    },
    {
     "name": "stdout",
     "output_type": "stream",
     "text": [
      "Moviepy - Done !\n",
      "Moviepy - video ready /Users/sidoodler/projects/asl/datasets/video_asl/inputs/asl_ours/Hanna_Session_7/cut_right.mp4\n"
     ]
    }
   ],
   "source": [
    "# # DO NOT RUN THIS BLOCK OF CODE! JUST RUN THE NEXT BLOCK AS IT ALREADY CONTAINS THE SYNCHRONISATION INFO.\n",
    "\n",
    "# # THIS BLOCK FIRST CREATES 2/3 SECONDS LONG SUBCLIPS OF BOTH THE VIEWS OF A SESSION AND THEN CONVERTS THOSE VIDEOS TO A SEQUENCE OF IMAGES STORING THEM IN IMAGES_LEFT/RIGHT FOLDERS\n",
    "# # THEN I MANUALLY COMPARE THE 2 IMAGE SEQUENCES AND FIGURE OUT WHICH 2 IMAGES ARE IN SYNC.\n",
    "\n",
    "# # left\n",
    "# start1 = 40\n",
    "# end1 = 43\n",
    "\n",
    "# # right\n",
    "# start2 = 37\n",
    "# end2 = 40\n",
    "\n",
    "# session = 'Hanna_Session_7'\n",
    "# video1 = 'left'\n",
    "# video2 = 'right'\n",
    "\n",
    "# inputs_path = '/Users/sidoodler/projects/asl/datasets/video_asl/inputs'\n",
    "\n",
    "# if os.path.isdir(f'{inputs_path}/asl_ours/{session}/images_left') == False:\n",
    "#     os.mkdir(f'{inputs_path}/asl_ours/{session}/images_left')\n",
    "    \n",
    "# if os.path.isdir(f'{inputs_path}/asl_ours/{session}/images_right') == False:\n",
    "#     os.mkdir(f'{inputs_path}/asl_ours/{session}/images_right')\n",
    "    \n",
    "# save_folder1 = f'{inputs_path}/asl_ours/{session}/images_left/'\n",
    "# save_folder2 = f'{inputs_path}/asl_ours/{session}/images_right/'\n",
    "\n",
    "# filename1 = f'{inputs_path}/asl_ours/{session}/{video1}.mp4'\n",
    "# filename2 = f'{inputs_path}/asl_ours/{session}/{video2}.mp4'\n",
    "# cut_filename1 = f'{inputs_path}/asl_ours/{session}/cut_{video1}.mp4'\n",
    "# cut_filename2 = f'{inputs_path}/asl_ours/{session}/cut_{video2}.mp4'\n",
    "\n",
    "# clip1 = VideoFileClip(filename1).subclip(start1, end1)\n",
    "# clip2 = VideoFileClip(filename2).subclip(start2, end2)\n",
    "\n",
    "# clip1.write_videofile(cut_filename1, fps=clip1.fps)\n",
    "# clip2.write_videofile(cut_filename2, fps=clip2.fps)\n",
    "\n",
    "# cut_frames = np.array([cv2.VideoCapture(cut_filename1), cv2.VideoCapture(cut_filename2)])\n",
    "# img_list = []\n",
    "# idx = np.zeros(2)\n",
    "\n",
    "# for i in range(len(cut_frames)):\n",
    "    \n",
    "#     img_list.append([])\n",
    "\n",
    "#     while(cut_frames[i].isOpened()):\n",
    "\n",
    "#         success, image = cut_frames[i].read()\n",
    "#         if success == False:\n",
    "#             break\n",
    "            \n",
    "#         img_list[i].append(image)\n",
    "#         idx[i] += 1\n",
    "\n",
    "# for i in range(int(idx[0])):\n",
    "    \n",
    "#     img1 = img_list[0][i]\n",
    "#     cv2.imwrite(save_folder1 + f'{i+1}.png', img1)\n",
    "\n",
    "# for i in range(int(idx[1])):\n",
    "    \n",
    "#     img2 = img_list[1][i]\n",
    "#     cv2.imwrite(save_folder2 + f'{i+1}.png', img2)"
   ]
  },
  {
   "cell_type": "code",
   "execution_count": 11,
   "metadata": {},
   "outputs": [
    {
     "name": "stdout",
     "output_type": "stream",
     "text": [
      "Moviepy - Building video /Users/sidoodler/projects/asl/datasets/video_asl/inputs/asl_ours/Hanna_Session_4/synced_start_fps_59.94_left.mp4.\n",
      "MoviePy - Writing audio in synced_start_fps_59.94_leftTEMP_MPY_wvf_snd.mp3\n"
     ]
    },
    {
     "name": "stderr",
     "output_type": "stream",
     "text": [
      "                                                                      \r"
     ]
    },
    {
     "name": "stdout",
     "output_type": "stream",
     "text": [
      "MoviePy - Done.\n",
      "Moviepy - Writing video /Users/sidoodler/projects/asl/datasets/video_asl/inputs/asl_ours/Hanna_Session_4/synced_start_fps_59.94_left.mp4\n",
      "\n"
     ]
    },
    {
     "name": "stderr",
     "output_type": "stream",
     "text": [
      "                                                                \r"
     ]
    },
    {
     "name": "stdout",
     "output_type": "stream",
     "text": [
      "Moviepy - Done !\n",
      "Moviepy - video ready /Users/sidoodler/projects/asl/datasets/video_asl/inputs/asl_ours/Hanna_Session_4/synced_start_fps_59.94_left.mp4\n",
      "Moviepy - Building video /Users/sidoodler/projects/asl/datasets/video_asl/inputs/asl_ours/Hanna_Session_4/synced_start_fps_59.94_right.mp4.\n",
      "MoviePy - Writing audio in synced_start_fps_59.94_rightTEMP_MPY_wvf_snd.mp3\n"
     ]
    },
    {
     "name": "stderr",
     "output_type": "stream",
     "text": [
      "                                                                      \r"
     ]
    },
    {
     "name": "stdout",
     "output_type": "stream",
     "text": [
      "MoviePy - Done.\n",
      "Moviepy - Writing video /Users/sidoodler/projects/asl/datasets/video_asl/inputs/asl_ours/Hanna_Session_4/synced_start_fps_59.94_right.mp4\n",
      "\n"
     ]
    },
    {
     "name": "stderr",
     "output_type": "stream",
     "text": [
      "                                                                  \r"
     ]
    },
    {
     "name": "stdout",
     "output_type": "stream",
     "text": [
      "Moviepy - Done !\n",
      "Moviepy - video ready /Users/sidoodler/projects/asl/datasets/video_asl/inputs/asl_ours/Hanna_Session_4/synced_start_fps_59.94_right.mp4\n"
     ]
    }
   ],
   "source": [
    "# SAVES SUBCLIPS OF THE 2 VIEWS FROM A PAIR OF SYNCED IMAGES ONWARDS TO THE END\n",
    "# THEN READS THOSE SUBCLIPS AND WRITES TO NEW VIDEOS UNTIL ONE OF THEM EXHAUSTS\n",
    "\n",
    "sessions = ['Hanna_Session_1', 'Hanna_Session_2', 'Hanna_Session_3', 'Hanna_Session_4', 'Hanna_Session_5', 'Hanna_Session_6', 'Hanna_Session_7']\n",
    "\n",
    "# these values are also present in Video Sync Data.xlsx shared on the drive folder.\n",
    "\n",
    "# for Hanna\n",
    "start_left = np.array([0,0,10,7,3,3,3])\n",
    "start_right = np.array([4,3,0,0,0,0,0])\n",
    "frame_numbers_left_right = np.array([[4,1], [1,1], [8,1], [1,71], [25,1], [1,18], [20,1]])\n",
    "\n",
    "# for Caroline\n",
    "# start_left = np.array([3,2,2,3,4,2])\n",
    "# start_right = np.array([0,0,0,0,0,0])\n",
    "# frame_numbers_left_right = np.array([[8,1], [13,1], [28,1], [5,1], [3,1], [23,1]\n",
    "\n",
    "video1 = 'same_fps_left'\n",
    "video2 = 'same_fps_right'\n",
    "\n",
    "inputs_path = '/Users/sidoodler/projects/asl/datasets/video_asl/inputs'\n",
    "\n",
    "for s in range(len(sessions)):\n",
    "\n",
    "    filename1 = f'{inputs_path}/asl_ours/{sessions[s]}/{video1}.mp4'\n",
    "    filename2 = f'{inputs_path}/asl_ours/{sessions[s]}/{video2}.mp4'\n",
    "    synced_start_filename1 = f'{inputs_path}/asl_ours/{sessions[s]}/synced_start_sec_{video1}.mp4'\n",
    "    synced_start_filename2 = f'{inputs_path}/asl_ours/{sessions[s]}/synced_start_sec_{video2}.mp4'\n",
    "\n",
    "    clip1 = VideoFileClip(filename1)\n",
    "    clip1 = clip1.subclip(start_left[s], clip1.end)\n",
    "    clip2 = VideoFileClip(filename2)\n",
    "    clip2 = clip2.subclip(start_right[s], clip2.end)\n",
    "    \n",
    "    vid_width1 = clip1.w\n",
    "    vid_width2 = clip2.w\n",
    "    vid_height1 = clip1.h\n",
    "    vid_height2 = clip2.h\n",
    "\n",
    "    clip1.write_videofile(synced_start_filename1, fps=clip1.fps)\n",
    "    clip2.write_videofile(synced_start_filename2, fps=clip2.fps)\n",
    "\n",
    "    synced_start_frames = np.array([cv2.VideoCapture(synced_start_filename1), cv2.VideoCapture(synced_start_filename2)])\n",
    "    \n",
    "    save_path1 = f'{inputs_path}/asl_ours/{sessions[s]}/final_synced_final_left.mp4'\n",
    "    out1 = cv2.VideoWriter(save_path1, cv2.VideoWriter_fourcc(*'mp4v'), clip1.fps, (int(vid_width1), int(vid_height1)))\n",
    "    \n",
    "    save_path2 = f'{inputs_path}/asl_ours/{sessions[s]}/final_synced_final_right.mp4'   \n",
    "    out2 = cv2.VideoWriter(save_path2, cv2.VideoWriter_fourcc(*'mp4v'), clip2.fps, (int(vid_width2), int(vid_height2)))\n",
    "    \n",
    "    ##### WASTE THE NECESSARY FRAMES #####\n",
    "    num = 0\n",
    "    idx = np.argmax(frame_numbers_left_right[s])\n",
    "    while synced_start_frames[idx].isOpened():\n",
    "\n",
    "        success, image1 = synced_start_frames[idx].read()\n",
    "        assert success == True\n",
    "        \n",
    "        if num == frame_numbers_left_right[s][idx] - 2:\n",
    "            break\n",
    "        num += 1\n",
    "    \n",
    "    vid_len = 0\n",
    "    while synced_start_frames[0].isOpened():\n",
    "        \n",
    "        success, image1 = synced_start_frames[0].read()\n",
    "        if success == False:\n",
    "            break\n",
    "        \n",
    "        out1.write(image1)\n",
    "        vid_len += 1\n",
    "        \n",
    "    while synced_start_frames[1].isOpened():\n",
    "        success, image2 = synced_start_frames[1].read()\n",
    "        if success == False:\n",
    "            break\n",
    "            \n",
    "        out2.write(image2)\n",
    "        vid_len -= 1\n",
    "        \n",
    "        if vid_len == 0:\n",
    "            break\n",
    "        \n",
    "    out1.release()\n",
    "    out2.release()"
   ]
  },
  {
   "cell_type": "code",
   "execution_count": 47,
   "metadata": {},
   "outputs": [],
   "source": []
  },
  {
   "cell_type": "code",
   "execution_count": null,
   "metadata": {},
   "outputs": [],
   "source": []
  },
  {
   "cell_type": "code",
   "execution_count": null,
   "metadata": {},
   "outputs": [],
   "source": []
  },
  {
   "cell_type": "code",
   "execution_count": null,
   "metadata": {},
   "outputs": [],
   "source": []
  },
  {
   "cell_type": "code",
   "execution_count": null,
   "metadata": {},
   "outputs": [],
   "source": []
  }
 ],
 "metadata": {
  "kernelspec": {
   "display_name": "Python 3",
   "language": "python",
   "name": "python3"
  },
  "language_info": {
   "codemirror_mode": {
    "name": "ipython",
    "version": 3
   },
   "file_extension": ".py",
   "mimetype": "text/x-python",
   "name": "python",
   "nbconvert_exporter": "python",
   "pygments_lexer": "ipython3",
   "version": "3.6.12"
  }
 },
 "nbformat": 4,
 "nbformat_minor": 5
}
